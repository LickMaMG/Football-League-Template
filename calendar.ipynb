{
 "cells": [
  {
   "cell_type": "code",
   "execution_count": 2,
   "metadata": {},
   "outputs": [],
   "source": [
    "import sys\n",
    "sys.path.append(\"./src/\")\n",
    "from utils import get_soup\n",
    "from match import create_match\n",
    "import time\n",
    "from dotenv import load_dotenv\n",
    "import re, datetime, os, unidecode"
   ]
  },
  {
   "cell_type": "code",
   "execution_count": 65,
   "metadata": {},
   "outputs": [],
   "source": [
    "load_dotenv()\n",
    "NOTION_API_KEY = os.getenv(\"NOTION_API_KEY\")\n",
    "PLAYERS_DB_ID = os.getenv(\"PLAYERS_DB_ID\")\n",
    "TEAMS_DB_ID = os.getenv(\"TEAMS_DB_ID\")\n",
    "MATCHES_DB_ID = os.getenv(\"MATCHES_DB_ID\")\n",
    "LA_LIGA_PAGE_ID = os.getenv(\"LA_LIGA_PAGE_ID\")\n",
    "NOTION_ENDPOINT = \"https://api.notion.com/v1/\"\n",
    "LA_LIGA_CALENDAR_URL = \"https://www.laliga.com/en-GB/laliga-santander/results/2023-24/gameweek-\""
   ]
  },
  {
   "cell_type": "code",
   "execution_count": 68,
   "metadata": {},
   "outputs": [],
   "source": [
    "def create_la_liga_calendar():\n",
    "    for i in range(1,39):\n",
    "        soup = get_soup(LA_LIGA_CALENDAR_URL+str(i))\n",
    "\n",
    "        matchday = \"Matchday {}\".format(i)\n",
    "        for row in soup.find(name=\"table\").find(name=\"tbody\").find_all(name=\"tr\")[::3]:\n",
    "            data = []\n",
    "            for elem in row.find_all(name=\"td\"):\n",
    "                if re.match(r\"\\w+\",elem.get_text()):\n",
    "                    data.append(elem.get_text())\n",
    "            match_date = data[1].split(\" \")[-1]\n",
    "            match_time = data[2].split(\":\")\n",
    "            match_date = datetime.datetime.strptime(match_date, \"%d.%m.%Y\")\n",
    "            match_date=match_date.replace(hour=int(match_time[0]), minute=int(match_time[1]))\n",
    "            match_date = match_date.strftime(\"%Y-%m-%d %H:%M\")\n",
    "            teams = data[3].split(\"VS\")\n",
    "            home_team = teams[0].strip()\n",
    "            away_team = teams[1].strip()\n",
    "            load_dotenv()\n",
    "            home_team_key = os.getenv(unidecode.unidecode(home_team.replace(\" \", \"\").lower()))\n",
    "            away_team_key = os.getenv(unidecode.unidecode(away_team.replace(\" \", \"\").lower()))\n",
    "            create_match(LA_LIGA_PAGE_ID,matchday, home_team, home_team_key, away_team, away_team_key, match_date)\n",
    "            print(\"Fetch {} : {} vs {}\".format(matchday, home_team, away_team))\n"
   ]
  },
  {
   "cell_type": "code",
   "execution_count": 55,
   "metadata": {},
   "outputs": [
    {
     "data": {
      "text/plain": [
       "'sylla'"
      ]
     },
     "execution_count": 55,
     "metadata": {},
     "output_type": "execute_result"
    }
   ],
   "source": [
    "class Player:\n",
    "    def  __init__(self, name) -> None:\n",
    "        self.name = name\n",
    "        self.change()\n",
    "    \n",
    "    # def change(self):\n",
    "    #     self.name = \"haha\"\n",
    "    \n",
    "    def change(self):\n",
    "        self.name = \"sylla\"\n",
    "p = Player(\"Baye\")\n",
    "p.name"
   ]
  },
  {
   "cell_type": "code",
   "execution_count": null,
   "metadata": {},
   "outputs": [],
   "source": []
  },
  {
   "cell_type": "code",
   "execution_count": 46,
   "metadata": {},
   "outputs": [],
   "source": []
  }
 ],
 "metadata": {
  "kernelspec": {
   "display_name": "Python 3",
   "language": "python",
   "name": "python3"
  },
  "language_info": {
   "codemirror_mode": {
    "name": "ipython",
    "version": 3
   },
   "file_extension": ".py",
   "mimetype": "text/x-python",
   "name": "python",
   "nbconvert_exporter": "python",
   "pygments_lexer": "ipython3",
   "version": "3.10.7"
  },
  "orig_nbformat": 4
 },
 "nbformat": 4,
 "nbformat_minor": 2
}
